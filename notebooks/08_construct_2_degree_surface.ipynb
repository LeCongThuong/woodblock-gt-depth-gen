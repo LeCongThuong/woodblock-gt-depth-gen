{
 "cells": [
  {
   "cell_type": "code",
   "execution_count": 7,
   "id": "564868ef-c9cb-4aee-901a-adba6005083a",
   "metadata": {},
   "outputs": [],
   "source": [
    "import json\n",
    "import cv2\n",
    "import open3d as o3d\n",
    "import numpy as np\n",
    "import matplotlib.pyplot as plt\n",
    "from math import sqrt\n",
    "import math\n",
    "import copy\n",
    "from scipy.spatial import distance\n",
    "from pathlib import Path\n",
    "import scipy"
   ]
  },
  {
   "cell_type": "code",
   "execution_count": 32,
   "id": "b955406c-9d4f-480a-abcc-fc4e6a1f2664",
   "metadata": {},
   "outputs": [],
   "source": [
    "def get_character_plane(data, order=2):\n",
    "    if order == 1:\n",
    "        # best-fit linear plane z = a*x + b*y + c, where a, b, c are the cofficients that need to find\n",
    "        # a = C[0], b = C[1], c = C[2]\n",
    "        A = np.c_[data[:,0], data[:,1], np.ones(data.shape[0])]\n",
    "        C,_,_,_ = scipy.linalg.lstsq(A, data[:,2])    # coefficients\n",
    "        return [C[0], C[1], -1, C[2]]\n",
    "    elif order == 2:\n",
    "        # best-fit quadratic curve z = a + b*x + c*y + d*x*y + e*x*x + f*y*y\n",
    "        # a = C[0], b = C[1], c= C[2], d = C[3], e = C[4], f = C[5]\n",
    "        A = np.c_[np.ones(data.shape[0]), data[:,:2], np.prod(data[:,:2], axis=1), data[:,:2]**2]\n",
    "        C,_,_,_ = scipy.linalg.lstsq(A, data[:,2])\n",
    "        return [C[0], C[1], C[2], -1, C[3], C[4], C[5]]\n",
    "\n",
    "\n",
    "def calc_sin_phi(a, b, c):\n",
    "    return sqrt((a*a + b*b) / (a*a + b*b + c*c))\n",
    "\n",
    "def calc_cos_phi(a, b, c):\n",
    "    return c / sqrt(a*a + b*b + c*c)\n",
    "\n",
    "def calc_u1(a, b, c):\n",
    "    return b / sqrt(a*a + b*b)\n",
    "\n",
    "\n",
    "def calc_u2(a, b, c):\n",
    "    return -a / sqrt(a*a + b*b)\n",
    "\n",
    "def get_rotation_matrix(plane_coff):\n",
    "    a, b, c, d = plane_coff\n",
    "    cos_phi = calc_cos_phi(a, b, c)\n",
    "    sin_phi = calc_sin_phi(a, b, c)\n",
    "    u1 = calc_u1(a, b, c)\n",
    "    u2 = calc_u2(a, b, c)\n",
    "    rot_matrix = np.array([\n",
    "        [cos_phi + u1 * u1 * (1 - cos_phi)  , u1 * u2 * (1 - cos_phi)           , u2 * sin_phi  ,  0],\n",
    "        [u1 * u2 * (1 - cos_phi)            , cos_phi + u2 * u2 * (1 - cos_phi) , -u1 * sin_phi ,  0],\n",
    "        [-u2 * sin_phi                      , u1 * sin_phi                      ,      cos_phi  , 0],\n",
    "        [0                                  , 0                                 , 0             ,  1]])\n",
    "    return rot_matrix\n",
    "\n",
    "def get_trans_matrix(plane_coff, transform_matrix):\n",
    "    # t_inv = np.linalg.inv(transform_matrix)\n",
    "    # new_plane_coff = np.dot(plane_coff, t_inv)\n",
    "    t_matrix = np.array([[1, 0, 0, 0], [0, 1, 0, 0], [0, 0, 1, -plane_coff[3]], [0, 0, 0, 1]])\n",
    "    return t_matrix\n",
    "\n",
    "def get_transform_matrix(plane_coff):\n",
    "    rot_matrix = get_rotation_matrix(plane_coff)\n",
    "    #print(rot_matrix)\n",
    "    trans_matrix = get_trans_matrix(plane_coff, rot_matrix)\n",
    "    #print(trans_matrix)\n",
    "    t_r_matrix = np.matmul(rot_matrix, trans_matrix)\n",
    "    #print(t_r_matrix)\n",
    "    return t_r_matrix\n",
    "\n",
    "def do_transform(np_pc_points, transform_matrix):\n",
    "    ones = np.ones((np_pc_points.shape[0], 1))\n",
    "    homo_np_pc_points = np.c_[ np_pc_points, ones]\n",
    "    homo_pc_3d = transform_matrix@(homo_np_pc_points.T)\n",
    "    homo_pc_3d = homo_pc_3d.T[:, :3]\n",
    "    \n",
    "    mean_vector = np.mean(homo_pc_3d, axis=0)\n",
    "    if mean_vector[2] < 0:\n",
    "        # upsiding if front face is down side\n",
    "        homo_pc_3d[:, 2] = - homo_pc_3d[:, 2]\n",
    "        homo_pc_3d[:, 0] = - homo_pc_3d[:, 0]\n",
    "        mean_vector = np.mean(homo_pc_3d, axis=0)\n",
    "    mean_vector[2] = 0\n",
    "    homo_pc_3d = homo_pc_3d - mean_vector\n",
    "    return homo_pc_3d"
   ]
  },
  {
   "cell_type": "code",
   "execution_count": 33,
   "id": "c739024f-d095-4b9f-bab5-989ece4ba7fb",
   "metadata": {},
   "outputs": [],
   "source": [
    "def read_stl_file(pc_path):\n",
    "    pc_points = o3d.io.read_triangle_mesh(str(pc_path))\n",
    "    np_pc_points = np.asarray(pc_points.vertices)\n",
    "    return pc_points, np_pc_points"
   ]
  },
  {
   "cell_type": "code",
   "execution_count": 34,
   "id": "c92b6c64-eb10-435d-ad09-7388a7f5ff89",
   "metadata": {},
   "outputs": [],
   "source": [
    "woodblock_file_path = \"/mnt/hdd/thuonglc/mocban/data_synthesis/woodblock-gt-depth-gen/data/models_3d/08360_1_point_on_surface.stl\""
   ]
  },
  {
   "cell_type": "code",
   "execution_count": 35,
   "id": "39bd2062-9aae-4e0d-955a-d2f216d66e6e",
   "metadata": {},
   "outputs": [],
   "source": [
    "pc_points, np_pc_points = read_stl_file(woodblock_file_path)\n",
    "C = get_character_plane(np_pc_points, order=2)"
   ]
  },
  {
   "cell_type": "code",
   "execution_count": 36,
   "id": "a80a6398-dd44-46ea-ab3f-938faa40a3eb",
   "metadata": {},
   "outputs": [],
   "source": []
  },
  {
   "cell_type": "code",
   "execution_count": 37,
   "id": "1c797ca8-6ea9-43a7-8091-c01d0631ef71",
   "metadata": {},
   "outputs": [
    {
     "data": {
      "text/plain": [
       "[0.9791627857780628,\n",
       " 0.011456807750208428,\n",
       " -0.011223323458816228,\n",
       " -1,\n",
       " 7.70934791409991e-05,\n",
       " 6.130547467097895e-06,\n",
       " 0.00015713562515484698]"
      ]
     },
     "execution_count": 37,
     "metadata": {},
     "output_type": "execute_result"
    }
   ],
   "source": [
    "C"
   ]
  },
  {
   "cell_type": "code",
   "execution_count": 73,
   "id": "3efb910d-bf0d-4ece-b76c-26cfab1eaa19",
   "metadata": {},
   "outputs": [
    {
     "data": {
      "text/plain": [
       "6.130547467097895e-06"
      ]
     },
     "execution_count": 73,
     "metadata": {},
     "output_type": "execute_result"
    }
   ],
   "source": [
    "C[5]"
   ]
  },
  {
   "cell_type": "code",
   "execution_count": 74,
   "id": "d820f9ca-ef4a-413f-a282-be8b6d673fc0",
   "metadata": {},
   "outputs": [],
   "source": [
    "def calculate_gradient(C, points):\n",
    "    gradient_of_x = C[1] + C[4] * points[:, 1] + 2*C[5]*points[:, 0]\n",
    "    gradient_of_y = C[2] + C[4] * points[:, 0] + 2*C[6]*points[:, 1]\n",
    "    minus_ones = -np.ones_like(gradient_of_x)\n",
    "    # length = np.sqrt(np.power(gradient_of_x, 2) + np.power(gradient_of_y, 2)  + 1)\n",
    "    # if length == 0:\n",
    "    #     length += 1e-8 \n",
    "    gradient = np.c_[gradient_of_x, gradient_of_y, minus_ones]\n",
    "    print(gradient[0])\n",
    "    return np.mean(gradient, axis=0)   "
   ]
  },
  {
   "cell_type": "code",
   "execution_count": 75,
   "id": "5ae8ec6d-1ea9-4c83-98de-b669c093ba51",
   "metadata": {},
   "outputs": [],
   "source": [
    "limit_bounding  = np.asarray([[ 112.30486134, 127.21270628],\n",
    "                [-117.05013116, -104.44313653]\n",
    "               ]).astype(np.int16)\n",
    "\n",
    "x = np.arange(limit_bounding[0][0], limit_bounding[0][1])\n",
    "y = np.arange(limit_bounding[1][0], limit_bounding[1][1])\n",
    "# full coordinate arrays\n",
    "xx, yy = np.meshgrid(x, y)\n",
    "out = np.column_stack((xx.ravel(),yy.ravel()))"
   ]
  },
  {
   "cell_type": "code",
   "execution_count": 76,
   "id": "54bc2651-2d74-45cd-810c-087775a3d941",
   "metadata": {},
   "outputs": [],
   "source": []
  },
  {
   "cell_type": "code",
   "execution_count": 77,
   "id": "1a539250-9381-4712-9639-d8037de46820",
   "metadata": {},
   "outputs": [],
   "source": []
  },
  {
   "cell_type": "code",
   "execution_count": 78,
   "id": "7b3e977a-9c5b-4c86-a671-2a2fa353ee2f",
   "metadata": {},
   "outputs": [
    {
     "name": "stdout",
     "output_type": "stream",
     "text": [
      "[ 0.00381011 -0.03935859 -1.        ]\n"
     ]
    }
   ],
   "source": [
    "normal_vec = calculate_gradient(C, out)"
   ]
  },
  {
   "cell_type": "code",
   "execution_count": 79,
   "id": "4a3d8219-9df7-498d-bdf0-ad637e7746e0",
   "metadata": {},
   "outputs": [
    {
     "data": {
      "text/plain": [
       "array([ 0.0043585 , -0.03693331, -1.        ])"
      ]
     },
     "execution_count": 79,
     "metadata": {},
     "output_type": "execute_result"
    }
   ],
   "source": [
    "normal_vec"
   ]
  },
  {
   "cell_type": "code",
   "execution_count": null,
   "id": "4c62227b-1a60-463e-9f78-430419f269c5",
   "metadata": {},
   "outputs": [
    {
     "data": {
      "text/plain": [
       "-0.009006590612850347"
      ]
     },
     "execution_count": 49,
     "metadata": {},
     "output_type": "execute_result"
    }
   ],
   "source": []
  }
 ],
 "metadata": {
  "kernelspec": {
   "display_name": "Python 3 (ipykernel)",
   "language": "python",
   "name": "python3"
  },
  "language_info": {
   "codemirror_mode": {
    "name": "ipython",
    "version": 3
   },
   "file_extension": ".py",
   "mimetype": "text/x-python",
   "name": "python",
   "nbconvert_exporter": "python",
   "pygments_lexer": "ipython3",
   "version": "3.8.10"
  }
 },
 "nbformat": 4,
 "nbformat_minor": 5
}
