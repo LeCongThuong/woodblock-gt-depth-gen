{
 "cells": [
  {
   "cell_type": "code",
   "execution_count": 25,
   "id": "5ecbac6f-cb0a-4c76-aae3-ae83f6b84ab3",
   "metadata": {},
   "outputs": [],
   "source": [
    "import open3d as o3d\n",
    "import numpy as np\n",
    "import matplotlib.pyplot as plt\n",
    "import cv2\n",
    "from pathlib import Path\n",
    "from tqdm.auto import tqdm"
   ]
  },
  {
   "cell_type": "code",
   "execution_count": 26,
   "id": "5a294395-ba39-4e72-875b-28151f81e7f3",
   "metadata": {},
   "outputs": [],
   "source": [
    "import json\n",
    "import cv2\n",
    "import open3d as o3d\n",
    "import numpy as np\n",
    "import matplotlib.pyplot as plt\n",
    "from math import sqrt\n",
    "import math\n",
    "import copy\n",
    "from scipy.spatial import distance\n",
    "from pathlib import Path\n",
    "import scipy\n",
    "import numpy as np"
   ]
  },
  {
   "cell_type": "code",
   "execution_count": 28,
   "id": "1bca5ad3-b28c-4fb8-ae3d-ebf72c8fa917",
   "metadata": {},
   "outputs": [],
   "source": [
    "def calc_sin_phi(a, b, c):\n",
    "    return sqrt((a*a + b*b) / (a*a + b*b + c*c))\n",
    "\n",
    "def calc_cos_phi(a, b, c):\n",
    "    return c / sqrt(a*a + b*b + c*c)\n",
    "\n",
    "def calc_u1(a, b, c):\n",
    "    return -b / sqrt(a*a + b*b)\n",
    "\n",
    "\n",
    "def calc_u2(a, b, c):\n",
    "    return a / sqrt(a*a + b*b)\n",
    "\n",
    "def get_rotation_matrix(normalized_vector):\n",
    "    a, b, c = normalized_vector\n",
    "    cos_phi = calc_cos_phi(a, b, c)\n",
    "    sin_phi = calc_sin_phi(a, b, c)\n",
    "    u1 = calc_u1(a, b, c)\n",
    "    u2 = calc_u2(a, b, c)\n",
    "    rot_matrix = np.array([\n",
    "        [cos_phi + u1 * u1 * (1 - cos_phi)  , u1 * u2 * (1 - cos_phi)           , u2 * sin_phi  ,  0],\n",
    "        [u1 * u2 * (1 - cos_phi)            , cos_phi + u2 * u2 * (1 - cos_phi) , -u1 * sin_phi ,  0],\n",
    "        [-u2 * sin_phi                      , u1 * sin_phi                      ,      cos_phi  , 0],\n",
    "        [0                                  , 0                                 , 0             ,  1]])\n",
    "    return rot_matrix\n",
    "\n",
    "def do_transform(np_pc_points, transform_matrix):\n",
    "    ones = np.ones((np_pc_points.shape[0], 1))\n",
    "    homo_np_pc_points = np.c_[ np_pc_points, ones]\n",
    "    homo_pc_3d = transform_matrix@(homo_np_pc_points.T)\n",
    "    homo_pc_3d = homo_pc_3d.T[:, :3]\n",
    "    \n",
    "    mean_vector = np.mean(homo_pc_3d, axis=0)\n",
    "    if mean_vector[2] < 0:\n",
    "        # upsiding if front face is down side\n",
    "        homo_pc_3d[:, 2] = - homo_pc_3d[:, 2]\n",
    "        homo_pc_3d[:, 0] = - homo_pc_3d[:, 0]\n",
    "        mean_vector = np.mean(homo_pc_3d, axis=0)\n",
    "    # mean_vector[2] = 0\n",
    "    homo_pc_3d = homo_pc_3d - mean_vector\n",
    "    return homo_pc_3d"
   ]
  },
  {
   "cell_type": "code",
   "execution_count": 29,
   "id": "bb365f0d-3698-4b68-afc2-ca079c93e5bf",
   "metadata": {},
   "outputs": [],
   "source": [
    "def read_stl_file(pc_path):\n",
    "    pc_points = o3d.io.read_triangle_mesh(str(pc_path))\n",
    "    print(\"Done pc points\")\n",
    "    np_pc_points = np.asarray(pc_points.vertices)\n",
    "    return pc_points, np_pc_points\n",
    "\n",
    "\n",
    "def transform_characters(pc_points, np_pc_points, normalized_vector, dest_dir_path, woodblock_path):\n",
    "    # label_dict = read_json(img_anno_file_path)\n",
    "    # point_index_mapping = read_3d_point_index(pc_anno_file_path)\n",
    "    # pc_file_path_list = list(Path(pc_dir_path).glob(\"*.stl\"))\n",
    "    transform_matrix = get_rotation_matrix(normalized_vector)\n",
    "    homo_pc_3d = do_transform(np_pc_points, transform_matrix)\n",
    "    print(\"Done get transform matrix\")\n",
    "    pc_points.vertices = o3d.utility.Vector3dVector(homo_pc_3d)\n",
    "    pc_points = o3d.geometry.TriangleMesh.compute_triangle_normals(pc_points)\n",
    "    pc_points.remove_duplicated_vertices()\n",
    "    o3d.io.write_triangle_mesh(f'{dest_dir_path}/{woodblock_path.stem}_r.stl', pc_points)"
   ]
  },
  {
   "cell_type": "code",
   "execution_count": 30,
   "id": "e83a9f26-e0d5-4c66-bae0-c35f9f426a4b",
   "metadata": {},
   "outputs": [],
   "source": [
    "normalized_vector = np.array([ 0.0043585 , -0.03693331, -1.        ])\n",
    "# normalized_vector = np.array([0, 1, 0])\n",
    "character_stl = Path(\"./example.stl\")\n",
    "dest_dir_path = \".\""
   ]
  },
  {
   "cell_type": "code",
   "execution_count": 31,
   "id": "341e1dfc-8be8-4ee7-bb8e-129f47a4716f",
   "metadata": {},
   "outputs": [
    {
     "name": "stdout",
     "output_type": "stream",
     "text": [
      "Done pc points\n"
     ]
    }
   ],
   "source": [
    "pc_points, np_pc_points = read_stl_file(str(character_stl))"
   ]
  },
  {
   "cell_type": "code",
   "execution_count": 32,
   "id": "fc08579d-f535-4b91-b91c-ffcb66049a5a",
   "metadata": {},
   "outputs": [
    {
     "name": "stdout",
     "output_type": "stream",
     "text": [
      "Done reading pc points\n",
      "Done get transform matrix\n"
     ]
    }
   ],
   "source": [
    "print(\"Done reading pc points\")\n",
    "transform_characters(pc_points, np_pc_points, normalized_vector, dest_dir_path, character_stl)"
   ]
  },
  {
   "cell_type": "code",
   "execution_count": null,
   "id": "344ba740-d76e-4f8d-9cd6-4ad586081f70",
   "metadata": {},
   "outputs": [],
   "source": []
  }
 ],
 "metadata": {
  "kernelspec": {
   "display_name": "Python 3 (ipykernel)",
   "language": "python",
   "name": "python3"
  },
  "language_info": {
   "codemirror_mode": {
    "name": "ipython",
    "version": 3
   },
   "file_extension": ".py",
   "mimetype": "text/x-python",
   "name": "python",
   "nbconvert_exporter": "python",
   "pygments_lexer": "ipython3",
   "version": "3.8.10"
  }
 },
 "nbformat": 4,
 "nbformat_minor": 5
}
