{
 "cells": [
  {
   "cell_type": "code",
   "execution_count": 1,
   "id": "7298b4b3-62fb-4f9c-8b39-ade24fa11792",
   "metadata": {},
   "outputs": [],
   "source": [
    "import numpy as np\n",
    "import open3d as o3d\n",
    "import sys"
   ]
  },
  {
   "cell_type": "code",
   "execution_count": 2,
   "id": "10b9ac79-b6d5-42b3-89a5-cee1fedb288d",
   "metadata": {},
   "outputs": [],
   "source": [
    "sys.path.append('/mnt/hdd/thuonglc/mocban/woodblock-gt-depth-gen/')"
   ]
  },
  {
   "cell_type": "code",
   "execution_count": 3,
   "id": "d11e16cc-2cc1-43a8-8449-72cb0c780073",
   "metadata": {},
   "outputs": [],
   "source": [
    "from model_transform_utils import read_stl_file"
   ]
  },
  {
   "cell_type": "code",
   "execution_count": 4,
   "id": "3cf87c2b-e07a-4238-8275-b9f479a29016",
   "metadata": {},
   "outputs": [],
   "source": [
    "stl_path = \"/mnt/hdd/thuonglc/mocban/woodblock-gt-depth-gen/notebooks/woodblock_border/border_02801_mk30.stl\""
   ]
  },
  {
   "cell_type": "code",
   "execution_count": 5,
   "id": "7dc41373-ca41-4fde-87bd-4bba51a0a611",
   "metadata": {},
   "outputs": [],
   "source": [
    "border_tri_mesh = read_stl_file(stl_path)"
   ]
  },
  {
   "cell_type": "code",
   "execution_count": 6,
   "id": "ef14504f-8705-4891-ae12-ed2b630447f5",
   "metadata": {},
   "outputs": [],
   "source": [
    "np_tri_mesh = np.asarray(border_tri_mesh.triangles)"
   ]
  },
  {
   "cell_type": "code",
   "execution_count": 7,
   "id": "ac75cc59-c0f2-44c6-b844-ead5d849a78d",
   "metadata": {},
   "outputs": [
    {
     "data": {
      "text/plain": [
       "array([[0, 1, 2],\n",
       "       [3, 4, 5]], dtype=int32)"
      ]
     },
     "execution_count": 7,
     "metadata": {},
     "output_type": "execute_result"
    }
   ],
   "source": [
    "np_tri_mesh"
   ]
  },
  {
   "cell_type": "code",
   "execution_count": 8,
   "id": "40218272-58c1-4502-bc49-03adb4e720d3",
   "metadata": {},
   "outputs": [],
   "source": [
    "np_3d_points = np.asarray(border_tri_mesh.vertices)"
   ]
  },
  {
   "cell_type": "code",
   "execution_count": 9,
   "id": "86077c46-8e43-4fbc-be83-582a63a45b47",
   "metadata": {},
   "outputs": [
    {
     "data": {
      "text/plain": [
       "array([[-171.01301575,  -95.978508  ,   49.01215363],\n",
       "       [-171.04722595,  -95.97154999,   49.00706863],\n",
       "       [-171.02001953,  -95.934021  ,   48.97493362],\n",
       "       [ 167.85794067,  -99.68791199,   34.80282211],\n",
       "       [ 167.93022156,  -99.68238068,   34.80491638],\n",
       "       [ 167.9654541 ,  -99.70336151,   34.82095718]])"
      ]
     },
     "execution_count": 9,
     "metadata": {},
     "output_type": "execute_result"
    }
   ],
   "source": [
    "np_3d_points"
   ]
  },
  {
   "cell_type": "code",
   "execution_count": 10,
   "id": "64be4ff3-6872-478e-a5fd-fb1e1299ca1b",
   "metadata": {},
   "outputs": [],
   "source": [
    "border_points = []\n",
    "for i in range(np_tri_mesh.shape[0]):\n",
    "    mean_point = np.mean(np_3d_points[np_tri_mesh[i], : ], axis=0).tolist()[:2]\n",
    "    border_points.append(mean_point)"
   ]
  },
  {
   "cell_type": "code",
   "execution_count": 11,
   "id": "8f13c104-cfe0-4cf7-ae6b-39d4819fd517",
   "metadata": {},
   "outputs": [],
   "source": [
    "border_points = np.asarray(border_points)"
   ]
  },
  {
   "cell_type": "code",
   "execution_count": 12,
   "id": "ce14216d-e6c3-47bd-bae9-0879c59b10b6",
   "metadata": {},
   "outputs": [],
   "source": [
    "def get_border_points_from_triangle_mesh(border_tri_mesh):\n",
    "    np_tri_mesh = np.asarray(border_tri_mesh.triangles)\n",
    "    np_3d_points = np.asarray(border_tri_mesh.vertices)\n",
    "    border_points = []\n",
    "    for i in range(np_tri_mesh.shape[0]):\n",
    "        mean_point = np.mean(np_3d_points[np_tri_mesh[i], : ], axis=0).tolist()[:2]\n",
    "        border_points.append(mean_point)\n",
    "    border_points = np.asarray(border_points)\n",
    "    return border_points"
   ]
  },
  {
   "cell_type": "code",
   "execution_count": 13,
   "id": "58112b32-3bdf-454d-b050-8cb9a6859640",
   "metadata": {},
   "outputs": [],
   "source": [
    "border_tri_mesh = read_stl_file(stl_path)\n",
    "border_points = get_border_points_from_triangle_mesh(border_tri_mesh)"
   ]
  },
  {
   "cell_type": "code",
   "execution_count": 14,
   "id": "2fa5fa89-51b8-4ede-b1c9-7c0a0972ccc1",
   "metadata": {},
   "outputs": [
    {
     "data": {
      "text/plain": [
       "array([[-171.02675374,  -95.96135966],\n",
       "       [ 167.91787211,  -99.69121806]])"
      ]
     },
     "execution_count": 14,
     "metadata": {},
     "output_type": "execute_result"
    }
   ],
   "source": [
    "border_points"
   ]
  },
  {
   "cell_type": "code",
   "execution_count": null,
   "id": "bc5981bc-5c8b-4558-9047-e6fcfd95b145",
   "metadata": {},
   "outputs": [],
   "source": []
  }
 ],
 "metadata": {
  "kernelspec": {
   "display_name": "Python 3 (ipykernel)",
   "language": "python",
   "name": "python3"
  },
  "language_info": {
   "codemirror_mode": {
    "name": "ipython",
    "version": 3
   },
   "file_extension": ".py",
   "mimetype": "text/x-python",
   "name": "python",
   "nbconvert_exporter": "python",
   "pygments_lexer": "ipython3",
   "version": "3.6.13"
  }
 },
 "nbformat": 4,
 "nbformat_minor": 5
}
