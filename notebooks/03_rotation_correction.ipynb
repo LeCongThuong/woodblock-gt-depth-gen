{
 "cells": [
  {
   "cell_type": "code",
   "execution_count": 1,
   "id": "f72374ed-391e-4457-9238-0ae8256f90ab",
   "metadata": {},
   "outputs": [],
   "source": [
    "import json\n",
    "import cv2\n",
    "import open3d as o3d\n",
    "import numpy as np\n",
    "import matplotlib.pyplot as plt\n",
    "from math import sqrt\n",
    "import math\n",
    "import copy\n",
    "from scipy.spatial import distance\n",
    "from pathlib import Path\n",
    "import scipy"
   ]
  },
  {
   "cell_type": "code",
   "execution_count": 2,
   "id": "545b5a55-5104-4e6d-a9df-b97b1d7a758d",
   "metadata": {},
   "outputs": [],
   "source": [
    "def get_character_plane(data, order=1):\n",
    "    if order == 1:\n",
    "        # best-fit linear plane\n",
    "        A = np.c_[data[:,0], data[:,1], np.ones(data.shape[0])]\n",
    "        C,_,_,_ = scipy.linalg.lstsq(A, data[:,2])    # coefficients\n",
    "    elif order == 2:\n",
    "        # best-fit quadratic curve\n",
    "        A = np.c_[np.ones(data.shape[0]), data[:,:2], np.prod(data[:,:2], axis=1), data[:,:2]**2]\n",
    "        C,_,_,_ = scipy.linalg.lstsq(A, data[:,2])\n",
    "    return [C[0], C[1], -1, C[2]]\n",
    "\n",
    "\n",
    "def calc_sin_phi(a, b, c):\n",
    "    return sqrt((a*a + b*b) / (a*a + b*b + c*c))\n",
    "\n",
    "def calc_cos_phi(a, b, c):\n",
    "    return c / sqrt(a*a + b*b + c*c)\n",
    "\n",
    "def calc_u1(a, b, c):\n",
    "    return b / sqrt(a*a + b*b)\n",
    "\n",
    "\n",
    "def calc_u2(a, b, c):\n",
    "    return -a / sqrt(a*a + b*b)\n",
    "\n",
    "def get_rotation_matrix(plane_coff):\n",
    "    a, b, c, d = plane_coff\n",
    "    cos_phi = calc_cos_phi(a, b, c)\n",
    "    sin_phi = calc_sin_phi(a, b, c)\n",
    "    u1 = calc_u1(a, b, c)\n",
    "    u2 = calc_u2(a, b, c)\n",
    "    rot_matrix = np.array([\n",
    "        [cos_phi + u1 * u1 * (1 - cos_phi)  , u1 * u2 * (1 - cos_phi)           , u2 * sin_phi  ,  0],\n",
    "        [u1 * u2 * (1 - cos_phi)            , cos_phi + u2 * u2 * (1 - cos_phi) , -u1 * sin_phi ,  0],\n",
    "        [-u2 * sin_phi                      , u1 * sin_phi                      ,      cos_phi  , 0],\n",
    "        [0                                  , 0                                 , 0             ,  1]])\n",
    "    return rot_matrix\n",
    "\n",
    "def get_trans_matrix(plane_coff, transform_matrix):\n",
    "    t_inv = np.linalg.inv(transform_matrix)\n",
    "    new_plane_coff = np.dot(plane_coff, t_inv)\n",
    "    t_matrix = np.array([[1, 0, 0, 0], [0, 1, 0, 0], [0, 0, 1, new_plane_coff[3]/new_plane_coff[2]], [0, 0, 0, 1]])\n",
    "    return t_matrix\n",
    "\n",
    "def get_transform_matrix(plane_coff):\n",
    "    rot_matrix = get_rotation_matrix(plane_coff)\n",
    "    #print(rot_matrix)\n",
    "    trans_matrix = get_trans_matrix(plane_coff, rot_matrix)\n",
    "    #print(trans_matrix)\n",
    "    t_r_matrix = np.matmul(trans_matrix, rot_matrix)\n",
    "    #print(t_r_matrix)\n",
    "    return t_r_matrix\n",
    "\n",
    "def do_transform(np_pc_points, transform_matrix):\n",
    "    ones = np.ones((np_pc_points.shape[0], 1))\n",
    "    homo_np_pc_points = np.c_[ np_pc_points, ones]\n",
    "    homo_pc_3d = transform_matrix@(homo_np_pc_points.T)\n",
    "    homo_pc_3d = homo_pc_3d.T[:, :3]\n",
    "    \n",
    "    mean_vector = np.mean(homo_pc_3d, axis=0)\n",
    "    if mean_vector[2] < 0:\n",
    "        # print(\"inverted\")\n",
    "        homo_pc_3d[:, 2] = - homo_pc_3d[:, 2]\n",
    "        homo_pc_3d[:, 0] = - homo_pc_3d[:, 0]\n",
    "        mean_vector = np.mean(homo_pc_3d, axis=0)\n",
    "    mean_vector[2] = 0\n",
    "    homo_pc_3d = homo_pc_3d - mean_vector\n",
    "    return homo_pc_3d"
   ]
  },
  {
   "cell_type": "code",
   "execution_count": 106,
   "id": "1cdfcf61-7ecc-45ae-98c4-45f3c7882cae",
   "metadata": {},
   "outputs": [],
   "source": [
    "def read_stl_file(pc_path):\n",
    "    pc_points = o3d.io.read_triangle_mesh(str(pc_path))\n",
    "    np_pc_points = np.asarray(pc_points.vertices)\n",
    "    return pc_points, np_pc_points\n",
    "\n",
    "\n",
    "def transform_characters(plane_point_path, dest_dir_path, woodblock_path):\n",
    "    # label_dict = read_json(img_anno_file_path)\n",
    "    # point_index_mapping = read_3d_point_index(pc_anno_file_path)\n",
    "    # pc_file_path_list = list(Path(pc_dir_path).glob(\"*.stl\"))\n",
    "    pc_plane_points, np_plane_pc_points = read_stl_file(str(plane_point_path))\n",
    "    pc_points, np_pc_points = read_stl_file(str(woodblock_path))\n",
    "    transformed_plane_coff = get_character_plane(np_plane_pc_points)\n",
    "    transform_matrix = get_transform_matrix(transformed_plane_coff)\n",
    "    homo_pc_3d = do_transform(np_pc_points, transform_matrix)\n",
    "    pc_points.vertices = o3d.utility.Vector3dVector(homo_pc_3d)\n",
    "    pc_points = o3d.geometry.TriangleMesh.compute_triangle_normals(pc_points)\n",
    "    pc_points.remove_duplicated_vertices()\n",
    "    o3d.io.write_triangle_mesh(f'{dest_dir_path}/{woodblock_path.stem}_r.stl', pc_points)"
   ]
  },
  {
   "cell_type": "markdown",
   "id": "0cfad966-d492-4e53-b174-031323d17f84",
   "metadata": {},
   "source": [
    "### Convert one stl file"
   ]
  },
  {
   "cell_type": "code",
   "execution_count": 107,
   "id": "d9d346a5-9fb0-45e1-bfbd-489c8d405b11",
   "metadata": {},
   "outputs": [],
   "source": [
    "pc_point_path = Path(\"/mnt/hdd/thuonglc/mocban/taming-transformers/data/woodblock_components/kho_khuon_in_dataset/surfaces/08360_kho_khuon_in_1_surface.stl\")\n",
    "dest_dir_path = Path(\"/mnt/hdd/thuonglc/mocban/taming-transformers/data/woodblock_components/kho_khuon_in_dataset/kho_khuon_in/\")\n",
    "# woodblock_path = Path(\"/mnt/hdd/thuonglc/mocban/taming-transformers/data/woodblock_components/29141_kho_khuon_in_1.stl\")\n",
    "#  \n",
    "woodblock_path = Path(\"/mnt/hdd/thuonglc/mocban/taming-transformers/data/woodblock_components/kho_khuon_in_dataset/surfaces/08360_kho_khuon_in_1_surface.stl\")\n",
    "transform_characters(pc_point_path, dest_dir_path, woodblock_path)"
   ]
  },
  {
   "cell_type": "markdown",
   "id": "f54683cb-3d5b-4bba-837c-d545f8c712fb",
   "metadata": {},
   "source": [
    "### Convert directory of stl"
   ]
  },
  {
   "cell_type": "code",
   "execution_count": 95,
   "id": "9cc41308-f4bc-4651-a8f8-2945f7b6a0f4",
   "metadata": {},
   "outputs": [],
   "source": [
    "woodblock_dir_path = \"/mnt/hdd/thuonglc/mocban/taming-transformers/data/woodblock_components/kho_khuon_in_dataset/kho_khuon_in/\"\n",
    "plane_dir_path = \"/mnt/hdd/thuonglc/mocban/taming-transformers/data/woodblock_components/kho_khuon_in_dataset/surfaces/\"\n",
    "\n",
    "woodblock_path_list = list(Path(woodblock_dir_path).glob(\"*.stl\"))\n",
    "plane_path_list = list(Path(plane_dir_path).glob(\"*.stl\"))\n",
    "woodblock_path_list = sorted(woodblock_path_list, key=lambda x: int(x.stem.split(\"_\")[0]) + int(x.stem.split(\"_\")[-1]));\n",
    "plane_path_list = sorted(plane_path_list, key=lambda x: int(x.stem.split(\"_\")[0]) + int(x.stem.split(\"_\")[-2]));\n",
    "woodblock_plane_list = list(zip(woodblock_path_list, plane_path_list))\n",
    "dest_dir_path = \"/mnt/hdd/thuonglc/mocban/taming-transformers/data/woodblock_components/kho_khuon_in_dataset/kho_khuon_in_r/\"\n",
    "for index in range(len(woodblock_path_list)):\n",
    "    transform_characters(woodblock_plane_list[index][1], dest_dir_path, woodblock_plane_list[index][0])"
   ]
  },
  {
   "cell_type": "code",
   "execution_count": 85,
   "id": "0bed259d-f4b7-452a-ad88-a300f427a77f",
   "metadata": {},
   "outputs": [],
   "source": []
  },
  {
   "cell_type": "code",
   "execution_count": null,
   "id": "e5b4a872-5d94-4b48-a471-17d01e56b4ab",
   "metadata": {},
   "outputs": [],
   "source": []
  }
 ],
 "metadata": {
  "kernelspec": {
   "display_name": "Python 3 (ipykernel)",
   "language": "python",
   "name": "python3"
  },
  "language_info": {
   "codemirror_mode": {
    "name": "ipython",
    "version": 3
   },
   "file_extension": ".py",
   "mimetype": "text/x-python",
   "name": "python",
   "nbconvert_exporter": "python",
   "pygments_lexer": "ipython3",
   "version": "3.8.10"
  }
 },
 "nbformat": 4,
 "nbformat_minor": 5
}
