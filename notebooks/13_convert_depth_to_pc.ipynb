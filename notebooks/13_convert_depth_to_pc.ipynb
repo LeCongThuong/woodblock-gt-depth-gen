{
 "cells": [
  {
   "cell_type": "code",
   "execution_count": 1,
   "id": "4dd903b8-0064-47b0-98fd-d27bcb5ac695",
   "metadata": {},
   "outputs": [],
   "source": [
    "import numpy as np\n",
    "from pathlib import Path"
   ]
  },
  {
   "cell_type": "code",
   "execution_count": 2,
   "id": "1fcd2a11-5d54-4d77-bdab-2888d2f69027",
   "metadata": {},
   "outputs": [],
   "source": [
    "inverted_matrix_path = \"\""
   ]
  },
  {
   "cell_type": "code",
   "execution_count": null,
   "id": "12225c5d-0ec8-4348-aa69-8321e5ad03a0",
   "metadata": {},
   "outputs": [],
   "source": [
    "def convert_depth_to_pc(depth_img, inverted_matrix):\n",
    "    weight, height, _ = depth_img.shape\n"
   ]
  }
 ],
 "metadata": {
  "kernelspec": {
   "display_name": "Python 3 (ipykernel)",
   "language": "python",
   "name": "python3"
  },
  "language_info": {
   "codemirror_mode": {
    "name": "ipython",
    "version": 3
   },
   "file_extension": ".py",
   "mimetype": "text/x-python",
   "name": "python",
   "nbconvert_exporter": "python",
   "pygments_lexer": "ipython3",
   "version": "3.6.13"
  }
 },
 "nbformat": 4,
 "nbformat_minor": 5
}
