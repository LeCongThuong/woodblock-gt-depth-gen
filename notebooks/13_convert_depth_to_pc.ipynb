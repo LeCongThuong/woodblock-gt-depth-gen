{
 "cells": [
  {
   "cell_type": "code",
   "execution_count": 1,
   "id": "4dd903b8-0064-47b0-98fd-d27bcb5ac695",
   "metadata": {},
   "outputs": [],
   "source": [
    "import numpy as np\n",
    "from pathlib import Path\n",
    "import cv2\n",
    "import open3d as o3d"
   ]
  },
  {
   "cell_type": "code",
   "execution_count": 2,
   "id": "1fcd2a11-5d54-4d77-bdab-2888d2f69027",
   "metadata": {},
   "outputs": [],
   "source": [
    "inverted_matrix_path = \"PATH TO INVERTED MATRIX\" # \"./data/output/02801_mk29/matrix_xyz_02801_mk29.npy\"\n",
    "depth_map_img_path = \"PATH TO DEPTH MAP CHARACTER\" # \"./data/output/02801_mk29/character_xyz/depth/0.png\""
   ]
  },
  {
   "cell_type": "code",
   "execution_count": 3,
   "id": "3b36836e-8679-49ef-84b4-50d6340f80b5",
   "metadata": {},
   "outputs": [],
   "source": [
    "def read_files(inverted_matrix_path, depth_map_img_path, d_size=None):\n",
    "    depth_img = cv2.imread(depth_map_img_path, 0)\n",
    "    if d_size is None:\n",
    "        d_size = 512\n",
    "    resize_depth_img = cv2.resize(depth_img, (d_size, d_size))\n",
    "    inverted_matrix = np.load(inverted_matrix_path)\n",
    "    return resize_depth_img, inverted_matrix"
   ]
  },
  {
   "cell_type": "code",
   "execution_count": 4,
   "id": "12225c5d-0ec8-4348-aa69-8321e5ad03a0",
   "metadata": {},
   "outputs": [],
   "source": [
    "def convert_depth_to_pc(depth_img, inverted_matrix):\n",
    "    width, height = depth_img.shape\n",
    "    x_range = np.arange(width)\n",
    "    y_range = np.arange(height)\n",
    "    x_mesh, y_mesh = np.meshgrid(x_range, y_range)\n",
    "    x_mesh_flat = x_mesh.reshape((-1,))\n",
    "    y_mesh_flat = y_mesh.reshape((-1,))\n",
    "    z_mesh = depth_img[y_mesh_flat, x_mesh_flat]\n",
    "    \n",
    "    x_mesh_flat = x_mesh_flat.reshape(-1, 1)\n",
    "    y_mesh_flat = y_mesh_flat.reshape(-1, 1)\n",
    "    z_mesh = z_mesh.reshape(-1, 1)\n",
    "    np_ones = np.ones((x_mesh_flat.shape[0], 1))\n",
    "    \n",
    "    homo_points = np.hstack([x_mesh_flat, y_mesh_flat, z_mesh, np_ones])\n",
    "    pc_points = (inverted_matrix@homo_points.T).T\n",
    "    pcd = o3d.geometry.PointCloud()\n",
    "    pcd.points = o3d.utility.Vector3dVector(pc_points[:, :3])\n",
    "    # o3d.io.write_point_cloud(\"sync.ply\", pcd)\n",
    "    return pcd"
   ]
  },
  {
   "cell_type": "code",
   "execution_count": 5,
   "id": "0ab67224-8896-430e-8d72-22a776343073",
   "metadata": {},
   "outputs": [],
   "source": [
    "resize_depth_img, inverted_matrix = read_files(inverted_matrix_path, depth_map_img_path)\n",
    "pcd = convert_depth_to_pc(resize_depth_img, inverted_matrix)"
   ]
  },
  {
   "cell_type": "code",
   "execution_count": null,
   "id": "c091ae10-44c5-47b3-a318-b9286b0f8334",
   "metadata": {},
   "outputs": [],
   "source": [
    "o3d.visualization.draw_geometries([pcd])"
   ]
  },
  {
   "cell_type": "code",
   "execution_count": null,
   "id": "c25bad34-bab4-4100-8803-a8662aed6b40",
   "metadata": {},
   "outputs": [],
   "source": []
  },
  {
   "cell_type": "code",
   "execution_count": null,
   "id": "a90a99ce-8388-4f00-b9a9-a1cf9b9ed718",
   "metadata": {},
   "outputs": [],
   "source": []
  }
 ],
 "metadata": {
  "kernelspec": {
   "display_name": "Python 3 (ipykernel)",
   "language": "python",
   "name": "python3"
  },
  "language_info": {
   "codemirror_mode": {
    "name": "ipython",
    "version": 3
   },
   "file_extension": ".py",
   "mimetype": "text/x-python",
   "name": "python",
   "nbconvert_exporter": "python",
   "pygments_lexer": "ipython3",
   "version": "3.6.13"
  }
 },
 "nbformat": 4,
 "nbformat_minor": 5
}
