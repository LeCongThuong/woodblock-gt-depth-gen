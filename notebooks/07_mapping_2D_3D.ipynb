{
 "cells": [
  {
   "cell_type": "code",
   "execution_count": 6,
   "id": "be57c7ba-d20f-4d2f-bb3b-75059d37ade9",
   "metadata": {},
   "outputs": [],
   "source": [
    "import json\n",
    "import numpy as np\n",
    "from skimage.io import imread, imshow\n",
    "from skimage import transform\n",
    "import matplotlib.pyplot as plt\n",
    "import numpy as np\n",
    "import cv2\n",
    "import math\n",
    "import pandas as pd\n",
    "from pathlib import Path\n",
    "import os\n",
    "import open3d as o3d"
   ]
  },
  {
   "cell_type": "code",
   "execution_count": 7,
   "id": "710c3d00-4c21-4b19-9205-b6875bc80630",
   "metadata": {},
   "outputs": [],
   "source": [
    "via_bbox_label_file_path = \"../labels/via_labels/08360a_3.json\"\n",
    "anno_register_file = \"../labels/via_labels/depth_print_mapping.json\"\n",
    "woodblock_stl_file = \"/mnt/hdd/thuonglc/mocban/data_synthesis/woodblock-gt-depth-gen/data/models_3d/08360_kho_khuon_in_1_r.stl\"\n",
    "# mapping_3d_point_file_path = \"../labels/mapping_3d/08360_1_mapping_point.stl\"\n",
    "# mapping_2d_point_file_path = \"../labels/via_labels/mapping-point-flip-08360a_3.json\"\n",
    "# image_2d = \"../outputs/flip-images/flip_08360a_3.jpg\""
   ]
  },
  {
   "cell_type": "code",
   "execution_count": 8,
   "id": "4dd93d59-3fa2-4829-9ebd-07a7fab17361",
   "metadata": {},
   "outputs": [],
   "source": [
    "def get_bboxes_from_via_anno_file(via_json_path, key_src='depth'):\n",
    "    anno = read_json_file(via_json_path)\n",
    "    dest_point_list = []\n",
    "    src_point_list = []\n",
    "    file_name_list = list(anno.keys())\n",
    "    for anno_key in anno.keys():\n",
    "        \n",
    "        if key_src in anno_key:\n",
    "            for point_info in anno[anno_key]['regions']:\n",
    "                dest_point_list.append([point_info['shape_attributes']['cx'], point_info['shape_attributes']['cy']])\n",
    "        else:\n",
    "            for point_info in anno[anno_key]['regions']:\n",
    "                src_point_list.append([point_info['shape_attributes']['cx'], point_info['shape_attributes']['cy']])\n",
    "    return [src_point_list, dest_point_list]\n",
    "\n",
    "def get_point_from_via_file(via_json_path):\n",
    "    src_point_list, dest_point_list = get_bboxes_from_via_anno_file(via_json_path)\n",
    "    np_src_point_list = np.asarray(src_point_list)\n",
    "    np_dest_point_list = np.asarray(dest_point_list)\n",
    "    return [np_src_point_list, np_dest_point_list]\n",
    "\n",
    "def read_json_file(json_path):\n",
    "    with open(json_path, 'r') as f:\n",
    "        content = json.load(f)\n",
    "    return content\n",
    "\n",
    "def write_json_file(anno, json_path):\n",
    "    with open(json_path, 'w') as f:\n",
    "        json.dump(anno, f)"
   ]
  },
  {
   "cell_type": "code",
   "execution_count": 9,
   "id": "de9706c2-03c4-48b0-8457-aa87ee474b27",
   "metadata": {},
   "outputs": [],
   "source": [
    "def mapping(anno_register_file, np_src_point_list, np_dest_point_list):\n",
    "    tform = transform.estimate_transform('projective', np_src_point_list, np_dest_point_list)\n",
    "    anno = read_json_file(anno_register_file)\n",
    "    bboxes_list = parse_polybboxes(anno)\n",
    "    np_bboxes = np.asarray(bboxes_list)\n",
    "    np_dest_bboxes = []\n",
    "    for poly_points in np_bboxes:\n",
    "        np_dest_bboxes.append(tform(poly_points))\n",
    "    return [np_dest_bboxes, np_bboxes]\n",
    "\n",
    "        \n",
    "def parse_polybboxes(anno):\n",
    "    poly_points = []\n",
    "    for key, anno_info in anno.items():\n",
    "        poly_info_list = anno_info[\"regions\"]\n",
    "        # print(poly_info_list[0])\n",
    "        for poly_info in poly_info_list:\n",
    "            x_point_list = poly_info[\"shape_attributes\"][\"all_points_x\"]\n",
    "            y_point_list = poly_info[\"shape_attributes\"][\"all_points_y\"]\n",
    "            points = np.stack((x_point_list, y_point_list), axis=-1)\n",
    "            poly_points.append(points)\n",
    "    return poly_points"
   ]
  },
  {
   "cell_type": "code",
   "execution_count": 10,
   "id": "099bd327-0c48-4cb1-8d59-d45252bde1d1",
   "metadata": {},
   "outputs": [
    {
     "name": "stderr",
     "output_type": "stream",
     "text": [
      "/tmp/ipykernel_20528/1843842306.py:5: VisibleDeprecationWarning: Creating an ndarray from ragged nested sequences (which is a list-or-tuple of lists-or-tuples-or ndarrays with different lengths or shapes) is deprecated. If you meant to do this, you must specify 'dtype=object' when creating the ndarray.\n",
      "  np_bboxes = np.asarray(bboxes_list)\n"
     ]
    }
   ],
   "source": [
    "[np_src_point_list, np_dest_point_list] = get_point_from_via_file(anno_register_file)\n",
    "dest_poly_points_list, origin_poly_points_list = mapping(via_bbox_label_file_path, np_src_point_list, np_dest_point_list)"
   ]
  },
  {
   "cell_type": "code",
   "execution_count": 11,
   "id": "ba7e0587-e645-40dc-a3bc-261277902637",
   "metadata": {},
   "outputs": [],
   "source": [
    "inverted_matrix = np.load(\"../labels/inverted_matrix/08360_1_img_inverted_matrix.npy\")    "
   ]
  },
  {
   "cell_type": "code",
   "execution_count": 15,
   "id": "9aa95fdf-1db3-4676-89b0-8151cf326301",
   "metadata": {},
   "outputs": [],
   "source": [
    "new_dest_poly_point_list = []\n",
    "for dest_poly_points in dest_poly_points_list:\n",
    "    one_z = np.ones((dest_poly_points.shape[0], 1))\n",
    "    point_3d = np.c_[dest_poly_points, one_z, one_z]\n",
    "    new_dest_poly_point_list.append(point_3d)"
   ]
  },
  {
   "cell_type": "code",
   "execution_count": 16,
   "id": "0593b538-0425-4def-9692-eae3d9df832c",
   "metadata": {},
   "outputs": [],
   "source": [
    "woodblock_bb_points_list = []\n",
    "for new_dest_poly_points in new_dest_poly_point_list:\n",
    "    point_3d = inverted_matrix@new_dest_poly_points.T\n",
    "    point_3d = point_3d.T\n",
    "    woodblock_bb_points_list.append(point_3d)"
   ]
  },
  {
   "cell_type": "code",
   "execution_count": 17,
   "id": "92aa6d25-07e7-4d53-bb4d-955543bd899f",
   "metadata": {},
   "outputs": [],
   "source": [
    "new_woodblock_bb_points_list = []\n",
    "for woodblock_bb_points in woodblock_bb_points_list:\n",
    "    woodblock_bb_points[:, 2] = 20\n",
    "    new_woodblock_bb_points_list.append(woodblock_bb_points[:, :3])"
   ]
  },
  {
   "cell_type": "code",
   "execution_count": 18,
   "id": "1fa9cc2e-5ab7-4d81-8986-24f9ea8b5dd1",
   "metadata": {},
   "outputs": [],
   "source": [
    "from copy import deepcopy\n",
    "low_woodblock_bb_points_list =  deepcopy(new_woodblock_bb_points_list)"
   ]
  },
  {
   "cell_type": "code",
   "execution_count": 19,
   "id": "90b0ab15-c93f-4429-b07d-9ccb59f45a0d",
   "metadata": {},
   "outputs": [],
   "source": [
    "for woodblock_bb_points in low_woodblock_bb_points_list:\n",
    "    woodblock_bb_points[:, 2] = -20"
   ]
  },
  {
   "cell_type": "code",
   "execution_count": 20,
   "id": "2c569d10-43d0-40d5-a945-02ee408c6b9f",
   "metadata": {},
   "outputs": [],
   "source": [
    "bound_woodblock_bb_points_list = new_woodblock_bb_points_list + low_woodblock_bb_points_list"
   ]
  },
  {
   "cell_type": "code",
   "execution_count": 21,
   "id": "be4d9a08-7f25-4825-9c16-4d35b6b2ce2a",
   "metadata": {},
   "outputs": [],
   "source": [
    "bound_woodblock_bb_points_list = []\n",
    "for index, new_woodblock_bb_points in enumerate(new_woodblock_bb_points_list):\n",
    "    bound_woodblock_bb_points_list.append(np.r_[new_woodblock_bb_points, low_woodblock_bb_points_list[index]])"
   ]
  },
  {
   "cell_type": "code",
   "execution_count": 22,
   "id": "728a7f81-861c-4703-859a-2957f7e90981",
   "metadata": {},
   "outputs": [],
   "source": [
    "min_x, max_x = np.min(bound_woodblock_bb_points_list[0][:, 0]), np.max(bound_woodblock_bb_points_list[0][:, 0])\n",
    "min_y, max_y = np.min(bound_woodblock_bb_points_list[0][:, 1]), np.max(bound_woodblock_bb_points_list[0][:, 1])\n",
    "min_z, max_z = np.min(bound_woodblock_bb_points_list[0][:, 2]), np.max(bound_woodblock_bb_points_list[0][:, 2])\n",
    "min_bound = np.asarray([min_x, min_y, min_z]).reshape(3, 1)\n",
    "max_bound = np.asarray([max_x, max_y, max_z]).reshape(3, 1)"
   ]
  },
  {
   "cell_type": "code",
   "execution_count": 23,
   "id": "fede0793-c01a-4495-bcbb-ae3c0d48cba6",
   "metadata": {},
   "outputs": [
    {
     "name": "stdout",
     "output_type": "stream",
     "text": [
      "[[ 112.30486134]\n",
      " [-117.05013116]\n",
      " [ -20.        ]] [[ 127.21270628]\n",
      " [-104.44313653]\n",
      " [  20.        ]]\n"
     ]
    }
   ],
   "source": [
    "print(min_bound, max_bound)"
   ]
  },
  {
   "cell_type": "code",
   "execution_count": null,
   "id": "90b81d81-7760-4420-b1f0-cf212520a5fa",
   "metadata": {},
   "outputs": [],
   "source": []
  },
  {
   "cell_type": "code",
   "execution_count": 30,
   "id": "7c3ce71b-4e3b-4d81-bd9f-68a5945ceeb7",
   "metadata": {},
   "outputs": [],
   "source": [
    "# pcd = o3d.geometry.PointCloud()\n",
    "# pcd_points = o3d.utility.Vector3dVector(bound_woodblock_bb_points_list[10])\n",
    "aligned_bb = o3d.geometry.AxisAlignedBoundingBox(min_bound, max_bound)"
   ]
  },
  {
   "cell_type": "code",
   "execution_count": 31,
   "id": "32e488d7-ed17-43de-81c3-0d2abc08211f",
   "metadata": {},
   "outputs": [],
   "source": [
    "bb_points = aligned_bb.get_box_points()"
   ]
  },
  {
   "cell_type": "code",
   "execution_count": 26,
   "id": "70294156-89f3-4d2e-9385-7080d0c19b10",
   "metadata": {},
   "outputs": [
    {
     "data": {
      "text/plain": [
       "array([[10012.34819372,  1916.16533892],\n",
       "       [10072.15391833,  1897.66484758],\n",
       "       [10465.78821666,  1801.89099297],\n",
       "       [10551.29968302,  2128.6562769 ],\n",
       "       [10543.00230905,  2200.43202875],\n",
       "       [10417.71385449,  2257.66166678],\n",
       "       [10333.11817451,  2230.19264795],\n",
       "       [10127.62608084,  2249.51307594]])"
      ]
     },
     "execution_count": 26,
     "metadata": {},
     "output_type": "execute_result"
    }
   ],
   "source": [
    "dest_poly_points_list[0]"
   ]
  },
  {
   "cell_type": "code",
   "execution_count": 27,
   "id": "72195bcf-ce1e-453d-bb4c-61ae2d6c5c5e",
   "metadata": {},
   "outputs": [],
   "source": [
    "def read_stl_file(pc_path):\n",
    "    pc_points = o3d.io.read_triangle_mesh(str(pc_path))\n",
    "    np_pc_points = np.asarray(pc_points.vertices)\n",
    "    return pc_points, np_pc_points"
   ]
  },
  {
   "cell_type": "code",
   "execution_count": 28,
   "id": "4807add2-2607-4149-88f4-f7980dd78902",
   "metadata": {},
   "outputs": [],
   "source": [
    "pc_points, np_pc_points = read_stl_file(woodblock_stl_file)"
   ]
  },
  {
   "cell_type": "code",
   "execution_count": 33,
   "id": "0bfc9f5a-132a-49b9-bda7-7269f588c632",
   "metadata": {},
   "outputs": [
    {
     "data": {
      "text/plain": [
       "True"
      ]
     },
     "execution_count": 33,
     "metadata": {},
     "output_type": "execute_result"
    }
   ],
   "source": [
    "# pcd = o3d.geometry.PointCloud()\n",
    "# pcd_points = o3d.utility.Vector3dVector(bound_woodblock_bb_points_list[10])\n",
    "\n",
    "pc_mesh = o3d.io.read_triangle_mesh(woodblock_stl_file)\n",
    "character_pc = pc_mesh.crop(aligned_bb)\n",
    "character_pc = o3d.geometry.TriangleMesh.compute_triangle_normals(character_pc)\n",
    "character_pc.remove_duplicated_vertices()\n",
    "o3d.io.write_triangle_mesh('./example.stl', character_pc)"
   ]
  },
  {
   "cell_type": "code",
   "execution_count": 38,
   "id": "43e8a979-b6b1-4264-bd54-d82ecde39a7c",
   "metadata": {},
   "outputs": [
    {
     "data": {
      "text/plain": [
       "array([[ 127.19604492, -107.33679199,    3.21885204],\n",
       "       [ 127.20240021, -107.04689789,    3.15736365],\n",
       "       [ 127.15847015, -107.23674774,    3.1570909 ],\n",
       "       ...,\n",
       "       [ 112.36270905, -104.63610077,    3.36133623],\n",
       "       [ 112.33770752, -104.79846954,    3.36360312],\n",
       "       [ 112.37815857, -104.48456573,    3.34957004]])"
      ]
     },
     "execution_count": 38,
     "metadata": {},
     "output_type": "execute_result"
    }
   ],
   "source": [
    "np.asarray(character_pc.vertices)"
   ]
  },
  {
   "cell_type": "code",
   "execution_count": null,
   "id": "844aa52b-5aa9-4f04-8570-fc7ef9d49b55",
   "metadata": {},
   "outputs": [],
   "source": []
  }
 ],
 "metadata": {
  "kernelspec": {
   "display_name": "Python 3 (ipykernel)",
   "language": "python",
   "name": "python3"
  },
  "language_info": {
   "codemirror_mode": {
    "name": "ipython",
    "version": 3
   },
   "file_extension": ".py",
   "mimetype": "text/x-python",
   "name": "python",
   "nbconvert_exporter": "python",
   "pygments_lexer": "ipython3",
   "version": "3.8.10"
  }
 },
 "nbformat": 4,
 "nbformat_minor": 5
}
