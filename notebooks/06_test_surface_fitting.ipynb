{
 "cells": [
  {
   "cell_type": "code",
   "execution_count": 7,
   "id": "675684f7-c1f1-4e31-8949-f425d59f623e",
   "metadata": {},
   "outputs": [
    {
     "name": "stderr",
     "output_type": "stream",
     "text": [
      "/tmp/ipykernel_20601/352786320.py:38: MatplotlibDeprecationWarning: Calling gca() with keyword arguments was deprecated in Matplotlib 3.4. Starting two minor releases later, gca() will take no keyword arguments. The gca() function should only be used to get the current axes, or if no axes exist, create new axes with default keyword arguments. To create a new axes with non-default arguments, use plt.axes() or plt.subplot().\n",
      "  ax = fig.gca(projection='3d')\n"
     ]
    }
   ],
   "source": [
    "import numpy as np\n",
    "import scipy.linalg\n",
    "from mpl_toolkits.mplot3d import Axes3D\n",
    "import matplotlib.pyplot as plt\n",
    "\n",
    "# some 3-dim points\n",
    "mean = np.array([0.0,0.0,0.0])\n",
    "cov = np.array([[1.0,-0.5,0.8], [-0.5,1.1,0.0], [0.8,0.0,1.0]])\n",
    "data = np.random.multivariate_normal(mean, cov, 50)\n",
    "\n",
    "# regular grid covering the domain of the data\n",
    "X,Y = np.meshgrid(np.arange(-3.0, 3.0, 0.5), np.arange(-3.0, 3.0, 0.5))\n",
    "XX = X.flatten()\n",
    "YY = Y.flatten()\n",
    "\n",
    "order = 2   # 1: linear, 2: quadratic\n",
    "if order == 1:\n",
    "    # best-fit linear plane\n",
    "    A = np.c_[data[:,0], data[:,1], np.ones(data.shape[0])]\n",
    "    C,_,_,_ = scipy.linalg.lstsq(A, data[:,2])    # coefficients\n",
    "    \n",
    "    # evaluate it on grid\n",
    "    Z = C[0]*X + C[1]*Y + C[2]\n",
    "    \n",
    "    # or expressed using matrix/vector product\n",
    "    #Z = np.dot(np.c_[XX, YY, np.ones(XX.shape)], C).reshape(X.shape)\n",
    "\n",
    "elif order == 2:\n",
    "    # best-fit quadratic curve\n",
    "    A = np.c_[np.ones(data.shape[0]), data[:,:2], np.prod(data[:,:2], axis=1), data[:,:2]**2]\n",
    "    C,_,_,_ = scipy.linalg.lstsq(A, data[:,2])\n",
    "    \n",
    "    # evaluate it on a grid\n",
    "    Z = np.dot(np.c_[np.ones(XX.shape), XX, YY, XX*YY, XX**2, YY**2], C).reshape(X.shape)\n",
    "\n",
    "# plot points and fitted surface\n",
    "fig = plt.figure()\n",
    "ax = fig.gca(projection='3d')\n",
    "ax.plot_surface(X, Y, Z, rstride=1, cstride=1, alpha=0.2)\n",
    "ax.scatter(data[:,0], data[:,1], data[:,2], c='r', s=50)\n",
    "plt.xlabel('X')\n",
    "plt.ylabel('Y')\n",
    "ax.set_zlabel('Z')\n",
    "ax.axis('auto')\n",
    "ax.axis('tight')\n",
    "plt.show()"
   ]
  },
  {
   "cell_type": "code",
   "execution_count": 2,
   "id": "ebcd64a9-28fe-4217-87de-f736bdb2cba9",
   "metadata": {},
   "outputs": [],
   "source": [
    "%matplotlib qt"
   ]
  },
  {
   "cell_type": "code",
   "execution_count": null,
   "id": "9cbdcb70-d538-43c9-9f3a-7b11d5471bff",
   "metadata": {},
   "outputs": [],
   "source": []
  }
 ],
 "metadata": {
  "kernelspec": {
   "display_name": "Python 3 (ipykernel)",
   "language": "python",
   "name": "python3"
  },
  "language_info": {
   "codemirror_mode": {
    "name": "ipython",
    "version": 3
   },
   "file_extension": ".py",
   "mimetype": "text/x-python",
   "name": "python",
   "nbconvert_exporter": "python",
   "pygments_lexer": "ipython3",
   "version": "3.8.10"
  }
 },
 "nbformat": 4,
 "nbformat_minor": 5
}
